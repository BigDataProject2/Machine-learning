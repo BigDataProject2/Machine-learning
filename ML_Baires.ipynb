{
  "nbformat": 4,
  "nbformat_minor": 0,
  "metadata": {
    "colab": {
      "provenance": []
    },
    "kernelspec": {
      "name": "python3",
      "display_name": "Python 3"
    },
    "language_info": {
      "name": "python"
    }
  },
  "cells": [
    {
      "cell_type": "code",
      "execution_count": 2,
      "metadata": {
        "id": "f8UD39HYU_vf"
      },
      "outputs": [],
      "source": [
        "# libraries for the files in google drive\n",
        "from pydrive.auth import GoogleAuth\n",
        "from google.colab import drive\n",
        "from pydrive.drive import GoogleDrive\n",
        "from google.colab import auth\n",
        "from oauth2client.client import GoogleCredentials"
      ]
    },
    {
      "cell_type": "code",
      "source": [
        "from google.colab import drive\n",
        "drive.mount('/content/drive')"
      ],
      "metadata": {
        "colab": {
          "base_uri": "https://localhost:8080/"
        },
        "id": "YmuKMFxDWPxg",
        "outputId": "92b77f97-37aa-45c9-b1d6-3666bc9d5eb1"
      },
      "execution_count": 3,
      "outputs": [
        {
          "output_type": "stream",
          "name": "stdout",
          "text": [
            "Mounted at /content/drive\n"
          ]
        }
      ]
    },
    {
      "cell_type": "code",
      "source": [
        "!ls \"/content/drive/My Drive/Baires/\""
      ],
      "metadata": {
        "colab": {
          "base_uri": "https://localhost:8080/"
        },
        "id": "Deqc7cYYWgPe",
        "outputId": "771085e0-08da-46c5-c1a2-978c9ab17e65"
      },
      "execution_count": 8,
      "outputs": [
        {
          "output_type": "stream",
          "name": "stdout",
          "text": [
            "data  models  notebooks  README.md  src  test\n"
          ]
        }
      ]
    },
    {
      "cell_type": "code",
      "source": [
        "X_view = open(\"/content/drive/My Drive/Baires/README.md\", \"r\")\n",
        "print(X_view.read())"
      ],
      "metadata": {
        "colab": {
          "base_uri": "https://localhost:8080/"
        },
        "id": "SFE0mgYdW1U_",
        "outputId": "960ef316-f678-4405-fa2b-516d7c956cd0"
      },
      "execution_count": 9,
      "outputs": [
        {
          "output_type": "stream",
          "name": "stdout",
          "text": [
            "# Baires Dev - Code Challenge #\n",
            "\n",
            "This repo contains all files for the code challenge for the opening \n",
            "*\"Talent - Talent Profiling & Assessment - Machine Learning Engineer.\"*\n",
            "For this challenge you'll be in charge of running an end-to-end data science\n",
            "project related to the involuntary turnover.\n",
            "\n",
            "\n",
            "### Task\n",
            "\n",
            "People are at the heart of our business. Recruiting and hiring are\n",
            "time-consuming processes. We assign the employee to a client as soon as the\n",
            "hiring process finishes. Most of the time, we have great matches between\n",
            "clients and developers. However, employees can be seen as low-performant by\n",
            "the client.\n",
            "\n",
            "As a company, we'd love to detect employees who are at high-risk quickly. If\n",
            "we find these people quickly, we can develop their talent and make everyone\n",
            "happy. Otherwise, we may need to terminate the employee's contract due to the\n",
            "lack of projects and clients. This type of termination is called involuntary\n",
            "turnover.\n",
            "\n",
            "In this challenge, you'll need to help the Talent Team find which employees\n",
            "are at higher risk of quitting the company due to low performance. If you can\n",
            "successfully find these people, we can create training programs so they can\n",
            "improve their output while developing themselves. If we fail these people,\n",
            "they may end up losing their job as we may be unable to assign them to a\n",
            "different project.\n",
            "\n",
            "To do that, the Talent Team provided you with data. Now it's your turn to\n",
            "transform data into insights and a model.\n",
            "\n",
            "\n",
            "#### Dataset\n",
            "This dataset is about the employees of an IT company. The main purpose of \n",
            "the challenge is to find which employees are under a high-risk of having \n",
            "a low-performance ticket (E=True). Here you find a list of variables which\n",
            "are already hot-encoded.\n",
            "\n",
            "* 'E' (Target variable): Is the employee a case of involuntary turnover? Yes\n",
            "  or No.\n",
            "* 'T': Time at the company in days\n",
            "* Age: \n",
            "  - 'age_at_start=25:35',\n",
            "  - 'age_at_start=35:45',\n",
            "  - 'age_at_start=45:100'\n",
            "* Gender: \n",
            "  - 'Gender=Male',\n",
            "* On going studies?:\n",
            "  - 'is_studying=Yes', \n",
            "* Education:\n",
            "  - 'education=02 - Undergraduate',\n",
            "  - 'education=03 - College Degree',\n",
            "  - 'education=04 - MBA/Masters/Ph.D.',\n",
            "* Seniority:\n",
            "  - 'seniority=02 - Junior',\n",
            "  - 'seniority=03 - Semi Senior',\n",
            "  - 'seniority=04 - Senior',\n",
            "  - 'seniority=05 - Architect',\n",
            "* Country of Residence:\n",
            "  - 'country_of_residence=Brazil',\n",
            "  - 'country_of_residence=Colombia',\n",
            "  - 'country_of_residence=Dominican Republic',\n",
            "  - 'country_of_residence=Ecuador',\n",
            "  - 'country_of_residence=Guatemala',\n",
            "  - 'country_of_residence=Mexico',\n",
            "  - 'country_of_residence=Other',\n",
            "  - 'country_of_residence=Peru', \n",
            "  - 'country_of_residence=United States',\n",
            "  - 'country_of_residence=Venezuela',\n",
            "* Salary\n",
            "  - 'salary_bins=Q_2',\n",
            "  - 'salary_bins=Q_3',\n",
            "  - 'salary_bins=Q_4',\n",
            "  - 'salary_bins=Q_5',\n",
            "* Last performance assessment by manager\n",
            "  - 'last_perfor_assess=2 - Regular/Good Performance',\n",
            "  - 'last_perfor_assess=3 - Excellent Performance',\n",
            "* Project headcount\n",
            "  - 'project_headcount=1 - Small [2 - 10]',\n",
            "  - 'project_headcount=2 - Medium [10 - 50]',\n",
            "  - 'project_headcount=3 - Large [50 - 100]',\n",
            "  - 'project_headcount=4 - Very Large [>100]',\n",
            "\n",
            "\n",
            "### Folder organization\n",
            "\n",
            "```{bash}\n",
            ".\n",
            "├── /data - Datasets (training and test data)\n",
            "├── /notebooks - Notebooks for exploration and modeling\n",
            "├── /models - Serialized models\n",
            "├── /src - Modules\n",
            "├── /test - JSON file for test the REST Api\n",
            "└── README.md\n",
            "```\n",
            "\n",
            "\n",
            "#### Required functionality\n",
            "\n",
            "1. Fork the project repository;\n",
            "2. Create a notebook and run an exploratory data analysis and modeling;\n",
            "  - Comment your notebook cells, describing your rationale and decisions;\n",
            "  - Inspect data completion;\n",
            "  - Check how the variables relate to the target outcome;\n",
            "  - Create a model that predicts the chances of involuntary turnover (column\n",
            "   `E`);\n",
            "  - Report model metrics;\n",
            "  - Place your models (including preprocessing steps) in the `models` folder;\n",
            "3. Save all project libraries and frameworks (i.e., requirements.txt) \n",
            "4. Make sure you document the README with all instructions needed to\n",
            "   replicate your code;\n",
            "5. Create an REST API inside a Docker container that receives the JSON\n",
            "   located in `test/api_test.json`\n",
            "   returns the prediction probability. \n",
            "\n",
            "\n",
            "#### Grading\n",
            "\n",
            "Version Control\n",
            "- Readme is well-documented and describe the general process\n",
            "- Project runs inside a virtual env / container?\n",
            "- Does the project have a commit history?\n",
            "\n",
            "Exploratory Data Analysis\n",
            "- Run data quality checks\n",
            "- Check how variables relate to the target outcome (E) using good visualization and tables\n",
            "- Provide comments and description for each analysis\n",
            "\n",
            "Modeling\n",
            "- Split data strategy (train, validation, test)\n",
            "- Optimized model with hyperparameter search\n",
            "- Train the final model with all available data\n",
            "- Report proper classification or survival analysis metrics\n",
            "- Saved models inside `models` folder\n",
            "- Dependencies are stored inside a requirements.txt\n",
            "- Provide comments and description for each decision?\n",
            "\n",
            "Deployment\n",
            "- Does the REST Api work?\n",
            "- Dockerimage is optimized for serving the predictions?\n",
            "- Does the REST Api has auto generated documentation?\n",
            "- Does project specify libraries and Python version?\n",
            "\n",
            "#### Tools\n",
            "\n",
            "At BairesDev, we rely on Python to build our data products. We expect you to\n",
            "use Python and its data-science libraries for this project. As the time is\n",
            "short, you may want to use Auto-ML libraries.\n",
            "\n",
            "\n",
            "### Time limit\n",
            "\n",
            "* We respect your time. Please don't spend more than 3 hours max trying to\n",
            "  solve the challenge. \n",
            "\n",
            "\n",
            "### Submission\n",
            "\n",
            "Share your repository with the technical interviewer: \n",
            "henrique.pinto[at]bairesdev.com . Make sure to include any instructions on \n",
            "how to run the app in the README.md\n",
            "\n"
          ]
        }
      ]
    }
  ]
}